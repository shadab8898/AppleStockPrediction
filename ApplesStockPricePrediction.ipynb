{
 "cells": [
  {
   "cell_type": "markdown",
   "metadata": {},
   "source": [
    "# Apple Stock Price Prediction"
   ]
  },
  {
   "cell_type": "code",
   "execution_count": 1,
   "metadata": {},
   "outputs": [],
   "source": [
    "import pandas as pd\n",
    "import numpy as np\n",
    "import matplotlib.pyplot as plt\n",
    "import seaborn as sns\n"
   ]
  },
  {
   "cell_type": "code",
   "execution_count": 2,
   "metadata": {},
   "outputs": [
    {
     "data": {
      "text/html": [
       "<div>\n",
       "<style scoped>\n",
       "    .dataframe tbody tr th:only-of-type {\n",
       "        vertical-align: middle;\n",
       "    }\n",
       "\n",
       "    .dataframe tbody tr th {\n",
       "        vertical-align: top;\n",
       "    }\n",
       "\n",
       "    .dataframe thead th {\n",
       "        text-align: right;\n",
       "    }\n",
       "</style>\n",
       "<table border=\"1\" class=\"dataframe\">\n",
       "  <thead>\n",
       "    <tr style=\"text-align: right;\">\n",
       "      <th></th>\n",
       "      <th>Date</th>\n",
       "      <th>Open</th>\n",
       "      <th>High</th>\n",
       "      <th>Low</th>\n",
       "      <th>Close</th>\n",
       "      <th>Adj Close</th>\n",
       "      <th>Volume</th>\n",
       "    </tr>\n",
       "  </thead>\n",
       "  <tbody>\n",
       "    <tr>\n",
       "      <th>0</th>\n",
       "      <td>12-12-1980</td>\n",
       "      <td>0.128348</td>\n",
       "      <td>0.128906</td>\n",
       "      <td>0.128348</td>\n",
       "      <td>0.128348</td>\n",
       "      <td>0.101261</td>\n",
       "      <td>469033600.0</td>\n",
       "    </tr>\n",
       "    <tr>\n",
       "      <th>1</th>\n",
       "      <td>15-12-1980</td>\n",
       "      <td>0.122210</td>\n",
       "      <td>0.122210</td>\n",
       "      <td>0.121652</td>\n",
       "      <td>0.121652</td>\n",
       "      <td>0.095978</td>\n",
       "      <td>175884800.0</td>\n",
       "    </tr>\n",
       "    <tr>\n",
       "      <th>2</th>\n",
       "      <td>16-12-1980</td>\n",
       "      <td>0.113281</td>\n",
       "      <td>0.113281</td>\n",
       "      <td>0.112723</td>\n",
       "      <td>0.112723</td>\n",
       "      <td>0.088934</td>\n",
       "      <td>105728000.0</td>\n",
       "    </tr>\n",
       "    <tr>\n",
       "      <th>3</th>\n",
       "      <td>17-12-1980</td>\n",
       "      <td>0.115513</td>\n",
       "      <td>0.116071</td>\n",
       "      <td>0.115513</td>\n",
       "      <td>0.115513</td>\n",
       "      <td>0.091135</td>\n",
       "      <td>86441600.0</td>\n",
       "    </tr>\n",
       "    <tr>\n",
       "      <th>4</th>\n",
       "      <td>18-12-1980</td>\n",
       "      <td>0.118862</td>\n",
       "      <td>0.119420</td>\n",
       "      <td>0.118862</td>\n",
       "      <td>0.118862</td>\n",
       "      <td>0.093777</td>\n",
       "      <td>73449600.0</td>\n",
       "    </tr>\n",
       "  </tbody>\n",
       "</table>\n",
       "</div>"
      ],
      "text/plain": [
       "         Date      Open      High       Low     Close  Adj Close       Volume\n",
       "0  12-12-1980  0.128348  0.128906  0.128348  0.128348   0.101261  469033600.0\n",
       "1  15-12-1980  0.122210  0.122210  0.121652  0.121652   0.095978  175884800.0\n",
       "2  16-12-1980  0.113281  0.113281  0.112723  0.112723   0.088934  105728000.0\n",
       "3  17-12-1980  0.115513  0.116071  0.115513  0.115513   0.091135   86441600.0\n",
       "4  18-12-1980  0.118862  0.119420  0.118862  0.118862   0.093777   73449600.0"
      ]
     },
     "execution_count": 2,
     "metadata": {},
     "output_type": "execute_result"
    }
   ],
   "source": [
    "df = pd.read_csv(r\"C:\\Users\\BORN 2 CODE\\Downloads\\AAPL (1).csv\")\n",
    "df.head(5)"
   ]
  },
  {
   "cell_type": "code",
   "execution_count": 3,
   "metadata": {},
   "outputs": [
    {
     "data": {
      "text/plain": [
       "(10016, 7)"
      ]
     },
     "execution_count": 3,
     "metadata": {},
     "output_type": "execute_result"
    }
   ],
   "source": [
    "df.shape"
   ]
  },
  {
   "cell_type": "code",
   "execution_count": 4,
   "metadata": {},
   "outputs": [
    {
     "name": "stdout",
     "output_type": "stream",
     "text": [
      "<class 'pandas.core.frame.DataFrame'>\n",
      "RangeIndex: 10016 entries, 0 to 10015\n",
      "Data columns (total 7 columns):\n",
      " #   Column     Non-Null Count  Dtype  \n",
      "---  ------     --------------  -----  \n",
      " 0   Date       10016 non-null  object \n",
      " 1   Open       10015 non-null  float64\n",
      " 2   High       10015 non-null  float64\n",
      " 3   Low        10015 non-null  float64\n",
      " 4   Close      10015 non-null  float64\n",
      " 5   Adj Close  10015 non-null  float64\n",
      " 6   Volume     10015 non-null  float64\n",
      "dtypes: float64(6), object(1)\n",
      "memory usage: 547.9+ KB\n"
     ]
    }
   ],
   "source": [
    "df.info()"
   ]
  },
  {
   "cell_type": "code",
   "execution_count": 5,
   "metadata": {},
   "outputs": [
    {
     "data": {
      "text/plain": [
       "Index(['Date', 'Open', 'High', 'Low', 'Close', 'Adj Close', 'Volume'], dtype='object')"
      ]
     },
     "execution_count": 5,
     "metadata": {},
     "output_type": "execute_result"
    }
   ],
   "source": [
    "df.columns"
   ]
  },
  {
   "cell_type": "code",
   "execution_count": 6,
   "metadata": {},
   "outputs": [
    {
     "data": {
      "text/plain": [
       "Date         0\n",
       "Open         1\n",
       "High         1\n",
       "Low          1\n",
       "Close        1\n",
       "Adj Close    1\n",
       "Volume       1\n",
       "dtype: int64"
      ]
     },
     "execution_count": 6,
     "metadata": {},
     "output_type": "execute_result"
    }
   ],
   "source": [
    "df.isnull().sum()"
   ]
  },
  {
   "cell_type": "code",
   "execution_count": 7,
   "metadata": {},
   "outputs": [],
   "source": [
    "df.dropna(inplace=True)"
   ]
  },
  {
   "cell_type": "code",
   "execution_count": 8,
   "metadata": {},
   "outputs": [
    {
     "data": {
      "text/plain": [
       "Date         0\n",
       "Open         0\n",
       "High         0\n",
       "Low          0\n",
       "Close        0\n",
       "Adj Close    0\n",
       "Volume       0\n",
       "dtype: int64"
      ]
     },
     "execution_count": 8,
     "metadata": {},
     "output_type": "execute_result"
    }
   ],
   "source": [
    "df.isnull().sum()"
   ]
  },
  {
   "cell_type": "code",
   "execution_count": 9,
   "metadata": {},
   "outputs": [
    {
     "data": {
      "text/html": [
       "<div>\n",
       "<style scoped>\n",
       "    .dataframe tbody tr th:only-of-type {\n",
       "        vertical-align: middle;\n",
       "    }\n",
       "\n",
       "    .dataframe tbody tr th {\n",
       "        vertical-align: top;\n",
       "    }\n",
       "\n",
       "    .dataframe thead th {\n",
       "        text-align: right;\n",
       "    }\n",
       "</style>\n",
       "<table border=\"1\" class=\"dataframe\">\n",
       "  <thead>\n",
       "    <tr style=\"text-align: right;\">\n",
       "      <th></th>\n",
       "      <th>Open</th>\n",
       "      <th>High</th>\n",
       "      <th>Low</th>\n",
       "      <th>Close</th>\n",
       "      <th>Adj Close</th>\n",
       "      <th>Volume</th>\n",
       "    </tr>\n",
       "  </thead>\n",
       "  <tbody>\n",
       "    <tr>\n",
       "      <th>count</th>\n",
       "      <td>10015.000000</td>\n",
       "      <td>10015.000000</td>\n",
       "      <td>10015.000000</td>\n",
       "      <td>10015.000000</td>\n",
       "      <td>10015.000000</td>\n",
       "      <td>1.001500e+04</td>\n",
       "    </tr>\n",
       "    <tr>\n",
       "      <th>mean</th>\n",
       "      <td>9.013322</td>\n",
       "      <td>9.107720</td>\n",
       "      <td>8.920993</td>\n",
       "      <td>9.018933</td>\n",
       "      <td>8.478195</td>\n",
       "      <td>3.413188e+08</td>\n",
       "    </tr>\n",
       "    <tr>\n",
       "      <th>std</th>\n",
       "      <td>16.842643</td>\n",
       "      <td>17.028099</td>\n",
       "      <td>16.677225</td>\n",
       "      <td>16.868353</td>\n",
       "      <td>16.466161</td>\n",
       "      <td>3.426534e+08</td>\n",
       "    </tr>\n",
       "    <tr>\n",
       "      <th>min</th>\n",
       "      <td>0.049665</td>\n",
       "      <td>0.049665</td>\n",
       "      <td>0.049107</td>\n",
       "      <td>0.049107</td>\n",
       "      <td>0.038743</td>\n",
       "      <td>1.388800e+06</td>\n",
       "    </tr>\n",
       "    <tr>\n",
       "      <th>25%</th>\n",
       "      <td>0.270089</td>\n",
       "      <td>0.275357</td>\n",
       "      <td>0.263951</td>\n",
       "      <td>0.270089</td>\n",
       "      <td>0.229988</td>\n",
       "      <td>1.315944e+08</td>\n",
       "    </tr>\n",
       "    <tr>\n",
       "      <th>50%</th>\n",
       "      <td>0.437500</td>\n",
       "      <td>0.446429</td>\n",
       "      <td>0.430357</td>\n",
       "      <td>0.437500</td>\n",
       "      <td>0.369111</td>\n",
       "      <td>2.285380e+08</td>\n",
       "    </tr>\n",
       "    <tr>\n",
       "      <th>75%</th>\n",
       "      <td>10.064286</td>\n",
       "      <td>10.185000</td>\n",
       "      <td>9.886071</td>\n",
       "      <td>10.102678</td>\n",
       "      <td>8.730120</td>\n",
       "      <td>4.250092e+08</td>\n",
       "    </tr>\n",
       "    <tr>\n",
       "      <th>max</th>\n",
       "      <td>132.759995</td>\n",
       "      <td>134.800003</td>\n",
       "      <td>130.529999</td>\n",
       "      <td>134.179993</td>\n",
       "      <td>134.179993</td>\n",
       "      <td>7.421641e+09</td>\n",
       "    </tr>\n",
       "  </tbody>\n",
       "</table>\n",
       "</div>"
      ],
      "text/plain": [
       "               Open          High           Low         Close     Adj Close  \\\n",
       "count  10015.000000  10015.000000  10015.000000  10015.000000  10015.000000   \n",
       "mean       9.013322      9.107720      8.920993      9.018933      8.478195   \n",
       "std       16.842643     17.028099     16.677225     16.868353     16.466161   \n",
       "min        0.049665      0.049665      0.049107      0.049107      0.038743   \n",
       "25%        0.270089      0.275357      0.263951      0.270089      0.229988   \n",
       "50%        0.437500      0.446429      0.430357      0.437500      0.369111   \n",
       "75%       10.064286     10.185000      9.886071     10.102678      8.730120   \n",
       "max      132.759995    134.800003    130.529999    134.179993    134.179993   \n",
       "\n",
       "             Volume  \n",
       "count  1.001500e+04  \n",
       "mean   3.413188e+08  \n",
       "std    3.426534e+08  \n",
       "min    1.388800e+06  \n",
       "25%    1.315944e+08  \n",
       "50%    2.285380e+08  \n",
       "75%    4.250092e+08  \n",
       "max    7.421641e+09  "
      ]
     },
     "execution_count": 9,
     "metadata": {},
     "output_type": "execute_result"
    }
   ],
   "source": [
    "df.describe()"
   ]
  },
  {
   "cell_type": "markdown",
   "metadata": {},
   "source": [
    "# Visualisation"
   ]
  },
  {
   "cell_type": "markdown",
   "metadata": {},
   "source": [
    "Tovisualize the close price "
   ]
  },
  {
   "cell_type": "code",
   "execution_count": 10,
   "metadata": {},
   "outputs": [
    {
     "data": {
      "image/png": "[encoded data removed]",
      "text/plain": [
       "<Figure size 1080x720 with 1 Axes>"
      ]
     },
     "metadata": {},
     "output_type": "display_data"
    }
   ],
   "source": [
    "sns.set()\n",
    "plt.figure(figsize=(15,10))\n",
    "plt.title(\"Apple Stock Price\")\n",
    "plt.xlabel(\"Days\")\n",
    "plt.ylabel(\"Closed Pice USD($)\")\n",
    "plt.plot(df[\"Close\"])\n",
    "plt.show()"
   ]
  },
  {
   "cell_type": "code",
   "execution_count": 11,
   "metadata": {},
   "outputs": [
    {
     "data": {
      "text/html": [
       "<div>\n",
       "<style scoped>\n",
       "    .dataframe tbody tr th:only-of-type {\n",
       "        vertical-align: middle;\n",
       "    }\n",
       "\n",
       "    .dataframe tbody tr th {\n",
       "        vertical-align: top;\n",
       "    }\n",
       "\n",
       "    .dataframe thead th {\n",
       "        text-align: right;\n",
       "    }\n",
       "</style>\n",
       "<table border=\"1\" class=\"dataframe\">\n",
       "  <thead>\n",
       "    <tr style=\"text-align: right;\">\n",
       "      <th></th>\n",
       "      <th>Close</th>\n",
       "    </tr>\n",
       "  </thead>\n",
       "  <tbody>\n",
       "    <tr>\n",
       "      <th>0</th>\n",
       "      <td>0.128348</td>\n",
       "    </tr>\n",
       "    <tr>\n",
       "      <th>1</th>\n",
       "      <td>0.121652</td>\n",
       "    </tr>\n",
       "    <tr>\n",
       "      <th>2</th>\n",
       "      <td>0.112723</td>\n",
       "    </tr>\n",
       "    <tr>\n",
       "      <th>3</th>\n",
       "      <td>0.115513</td>\n",
       "    </tr>\n",
       "    <tr>\n",
       "      <th>4</th>\n",
       "      <td>0.118862</td>\n",
       "    </tr>\n",
       "  </tbody>\n",
       "</table>\n",
       "</div>"
      ],
      "text/plain": [
       "      Close\n",
       "0  0.128348\n",
       "1  0.121652\n",
       "2  0.112723\n",
       "3  0.115513\n",
       "4  0.118862"
      ]
     },
     "execution_count": 11,
     "metadata": {},
     "output_type": "execute_result"
    }
   ],
   "source": [
    "df = df[[\"Close\"]]\n",
    "df.head()"
   ]
  },
  {
   "cell_type": "code",
   "execution_count": 12,
   "metadata": {},
   "outputs": [],
   "source": [
    "futureDays = 25"
   ]
  },
  {
   "cell_type": "code",
   "execution_count": 13,
   "metadata": {},
   "outputs": [
    {
     "name": "stdout",
     "output_type": "stream",
     "text": [
      "      Close  Prediction\n",
      "0  0.128348    0.142299\n",
      "1  0.121652    0.145089\n",
      "2  0.112723    0.146763\n",
      "3  0.115513    0.146205\n",
      "4  0.118862    0.143973\n",
      "            Close  Prediction\n",
      "10011  126.522499         NaN\n",
      "10012  125.010002         NaN\n",
      "10013  124.807503         NaN\n",
      "10014  129.039993         NaN\n",
      "10015  134.179993         NaN\n"
     ]
    }
   ],
   "source": [
    "df[\"Prediction\"] = df[[\"Close\"]].shift(-futureDays)\n",
    "print(df.head())\n",
    "print(df.tail())"
   ]
  },
  {
   "cell_type": "code",
   "execution_count": 14,
   "metadata": {},
   "outputs": [
    {
     "name": "stdout",
     "output_type": "stream",
     "text": [
      "[[ 0.128348]\n",
      " [ 0.121652]\n",
      " [ 0.112723]\n",
      " ...\n",
      " [92.614998]\n",
      " [94.809998]\n",
      " [93.252502]]\n"
     ]
    }
   ],
   "source": [
    "x = np.array(df.drop([\"Prediction\"], 1))[:-futureDays]\n",
    "print(x)"
   ]
  },
  {
   "cell_type": "code",
   "execution_count": 15,
   "metadata": {},
   "outputs": [
    {
     "name": "stdout",
     "output_type": "stream",
     "text": [
      "[  0.142299   0.145089   0.146763 ... 124.807503 129.039993 134.179993]\n"
     ]
    }
   ],
   "source": [
    "y = np.array(df[\"Prediction\"])[:-futureDays]\n",
    "print(y)"
   ]
  },
  {
   "cell_type": "markdown",
   "metadata": {},
   "source": [
    "# Train Test Split"
   ]
  },
  {
   "cell_type": "code",
   "execution_count": 16,
   "metadata": {},
   "outputs": [],
   "source": [
    "from sklearn.model_selection import train_test_split\n",
    "x_train,x_test,y_train,y_test = train_test_split(x,y,test_size=0.25)"
   ]
  },
  {
   "cell_type": "markdown",
   "metadata": {},
   "source": [
    "# Models"
   ]
  },
  {
   "cell_type": "code",
   "execution_count": 17,
   "metadata": {},
   "outputs": [],
   "source": [
    "#Decision tree regressor\n",
    "from sklearn.tree import DecisionTreeRegressor\n",
    "tree = DecisionTreeRegressor().fit(x_train,y_train)\n",
    "\n",
    "#Linear Regressor\n",
    "from sklearn.linear_model import LinearRegression\n",
    "linear = LinearRegression().fit(x_train,y_train)\n"
   ]
  },
  {
   "cell_type": "code",
   "execution_count": 18,
   "metadata": {},
   "outputs": [
    {
     "name": "stdout",
     "output_type": "stream",
     "text": [
      "[[91.6325  ]\n",
      " [90.014999]\n",
      " [91.209999]\n",
      " [88.407501]\n",
      " [90.445   ]\n",
      " [91.199997]\n",
      " [91.027496]\n",
      " [91.027496]\n",
      " [93.462502]\n",
      " [93.172501]\n",
      " [95.342499]\n",
      " [95.752502]\n",
      " [95.919998]\n",
      " [95.477501]\n",
      " [97.057503]\n",
      " [97.724998]\n",
      " [96.522499]\n",
      " [96.327499]\n",
      " [98.357498]\n",
      " [97.      ]\n",
      " [97.272499]\n",
      " [92.845001]\n",
      " [92.614998]\n",
      " [94.809998]\n",
      " [93.252502]]\n"
     ]
    }
   ],
   "source": [
    "x_future = df.drop([\"Prediction\"], 1)[:-futureDays]\n",
    "x_future = x_future.tail(futureDays)\n",
    "x_future = np.array(x_future)\n",
    "print(x_future)"
   ]
  },
  {
   "cell_type": "code",
   "execution_count": 21,
   "metadata": {},
   "outputs": [
    {
     "name": "stdout",
     "output_type": "stream",
     "text": [
      "Decision Tree Prediction = [ 95.040001  96.190002 106.260002 108.9375   109.665001 106.260002\n",
      " 113.902496 113.902496 112.727501 134.179993 114.607498 115.010002\n",
      " 114.907501 114.607498 115.5625   115.707497 118.275002 118.275002\n",
      " 125.857498 124.824997 126.522499 134.179993 134.179993 129.039993\n",
      " 134.179993]\n"
     ]
    }
   ],
   "source": [
    "treePrediction = tree.predict(x_future)\n",
    "print(\"Decision Tree Prediction =\",treePrediction)"
   ]
  },
  {
   "cell_type": "code",
   "execution_count": 22,
   "metadata": {},
   "outputs": [
    {
     "name": "stdout",
     "output_type": "stream",
     "text": [
      "Linear Regression Prediction = [ 95.48193852  93.7947124   95.0412249   92.11792048  94.24324932\n",
      "  95.03079175  94.8508548   94.8508548   97.39082585  97.08832387\n",
      "  99.35186331  99.77954018  99.95425638  99.4926848  101.14079546\n",
      " 101.83706396 100.5827292  100.3793234  102.49682894 101.08081369\n",
      " 101.36505922  96.74670643  96.50678876  98.79640795  97.17177345]\n"
     ]
    }
   ],
   "source": [
    "linearPrediction = linear.predict(x_future)\n",
    "print(\"Linear Regression Prediction =\",linearPrediction)"
   ]
  },
  {
   "cell_type": "markdown",
   "metadata": {},
   "source": [
    "# Visualize decision Tree Prediction"
   ]
  },
  {
   "cell_type": "code",
   "execution_count": 24,
   "metadata": {},
   "outputs": [
    {
     "name": "stderr",
     "output_type": "stream",
     "text": [
      "<ipython-input-24-186e805400f4>:3: SettingWithCopyWarning: \n",
      "A value is trying to be set on a copy of a slice from a DataFrame.\n",
      "Try using .loc[row_indexer,col_indexer] = value instead\n",
      "\n",
      "See the caveats in the documentation: https://pandas.pydata.org/pandas-docs/stable/user_guide/indexing.html#returning-a-view-versus-a-copy\n",
      "  valid[\"Predictions\"] = predictions\n"
     ]
    },
    {
     "data": {
      "image/png": "[encoded data removed]",
      "text/plain": [
       "<Figure size 720x432 with 1 Axes>"
      ]
     },
     "metadata": {},
     "output_type": "display_data"
    }
   ],
   "source": [
    "predictions = treePrediction\n",
    "valid = df[x.shape[0]:]\n",
    "valid[\"Predictions\"] = predictions\n",
    "plt.figure(figsize=(10, 6))\n",
    "plt.title(\"Apple's Stock Price Prediction Model(Decision Tree Regressor)\")\n",
    "plt.xlabel(\"Days\")\n",
    "plt.ylabel(\"Close Price USD ($)\")\n",
    "plt.plot(df[\"Close\"])\n",
    "plt.plot(valid[[\"Close\", \"Predictions\"]])\n",
    "plt.legend([\"Original\", \"Valid\", \"Predictions\"])\n",
    "plt.show()"
   ]
  },
  {
   "cell_type": "markdown",
   "metadata": {},
   "source": [
    "# Visualize the linear model predictions"
   ]
  },
  {
   "cell_type": "code",
   "execution_count": 26,
   "metadata": {},
   "outputs": [
    {
     "name": "stderr",
     "output_type": "stream",
     "text": [
      "<ipython-input-26-74c418b28702>:3: SettingWithCopyWarning: \n",
      "A value is trying to be set on a copy of a slice from a DataFrame.\n",
      "Try using .loc[row_indexer,col_indexer] = value instead\n",
      "\n",
      "See the caveats in the documentation: https://pandas.pydata.org/pandas-docs/stable/user_guide/indexing.html#returning-a-view-versus-a-copy\n",
      "  valid[\"Predictions\"] = predictions\n"
     ]
    },
    {
     "data": {
      "image/png": "[encoded data removed]",
      "text/plain": [
       "<Figure size 720x432 with 1 Axes>"
      ]
     },
     "metadata": {},
     "output_type": "display_data"
    }
   ],
   "source": [
    "predictions = linearPrediction\n",
    "valid = df[x.shape[0]:]\n",
    "valid[\"Predictions\"] = predictions\n",
    "plt.figure(figsize=(10, 6))\n",
    "plt.title(\"Apple's Stock Price Prediction Model(Linear Regression Model)\")\n",
    "plt.xlabel(\"Days\")\n",
    "plt.ylabel(\"Close Price USD ($)\")\n",
    "plt.plot(df[\"Close\"])\n",
    "plt.plot(valid[[\"Close\", \"Predictions\"]])\n",
    "plt.legend([\"Original\", \"Valid\", \"Predictions\"])\n",
    "plt.show()"
   ]
  },
  {
   "cell_type": "code",
   "execution_count": null,
   "metadata": {},
   "outputs": [],
   "source": []
  }
 ],
 "metadata": {
  "kernelspec": {
   "display_name": "Python 3",
   "language": "python",
   "name": "python3"
  },
  "language_info": {
   "codemirror_mode": {
    "name": "ipython",
    "version": 3
   },
   "file_extension": ".py",
   "mimetype": "text/x-python",
   "name": "python",
   "nbconvert_exporter": "python",
   "pygments_lexer": "ipython3",
   "version": "3.8.5"
  }
 },
 "nbformat": 4,
 "nbformat_minor": 4
}
